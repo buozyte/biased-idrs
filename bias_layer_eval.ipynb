{
 "cells": [
  {
   "cell_type": "code",
   "execution_count": null,
   "id": "d29f036f-ca74-4194-95b4-e30529482836",
   "metadata": {},
   "outputs": [],
   "source": [
    "#run train.py cifar10 cifar_resnet110 ./out --batch 512 --lr 0.01 --lr_step_size 32 --momentum 0.75 --base_sigma 0.00"
   ]
  },
  {
   "cell_type": "code",
   "execution_count": null,
   "id": "8d02d989-6eb9-413a-997d-94ebcb1b83e6",
   "metadata": {},
   "outputs": [],
   "source": [
    "#run certify.py cifar10 ./out01_bias/checkpoint.pth.tar 0.12 ./out01_bias --skip 5000 --batch 512 --add_bias_layer True"
   ]
  },
  {
   "cell_type": "code",
   "execution_count": null,
   "id": "814d7982-af06-4245-b6d4-7c1dfde7dd2e",
   "metadata": {},
   "outputs": [],
   "source": [
    "import pandas as pd\n",
    "import numpy as np\n",
    "import seaborn as sns\n",
    "\n",
    "import pickle as pkl\n",
    "import itertools as itt\n",
    "\n",
    "from pathlib import Path"
   ]
  },
  {
   "cell_type": "code",
   "execution_count": null,
   "id": "0c73e10f-c9c1-4590-9d9d-f1fe70a0b122",
   "metadata": {},
   "outputs": [],
   "source": [
    "path = Path(\"./out01_bias/results.pkl\")"
   ]
  },
  {
   "cell_type": "code",
   "execution_count": null,
   "id": "a59762d9-2d40-43e5-97dd-f9eb3859c24e",
   "metadata": {},
   "outputs": [],
   "source": [
    "with open(path, \"rb\") as f:\n",
    "    results = pkl.load(f)"
   ]
  },
  {
   "cell_type": "code",
   "execution_count": null,
   "id": "9049e4b9-edb7-4958-afa3-1a2936ed7df8",
   "metadata": {},
   "outputs": [],
   "source": [
    "model_idx_list = [f\"{i:02}\" for i in range(1,11)]\n",
    "suffix_list = [\"\", \"_bias\", \"_bias_only\", \"_bias_only_sigma\"]\n",
    "iter_all = list(itt.product(model_idx_list, suffix_list))"
   ]
  },
  {
   "cell_type": "code",
   "execution_count": null,
   "id": "974fc2fc-14f8-4ea0-b27e-b553d1eba52a",
   "metadata": {},
   "outputs": [],
   "source": [
    "df = pd.DataFrame(columns=(\"suffix\", \"radius_all\", \"radius_cor\", \"model_idx\"))\n",
    "for model_idx, suffix in iter_all:\n",
    "    path = Path(f\"./out{model_idx}{suffix}/results.pkl\")\n",
    "    with open(path, \"rb\") as f:\n",
    "        results = pkl.load(f)\n",
    "    radius = np.array(results[\"certified_radius\"])\n",
    "    I_pos = radius > 0.0\n",
    "    I_cor = np.array(results[\"correct\"], dtype=bool)\n",
    "    df = pd.concat(\n",
    "        [\n",
    "            df,\n",
    "            pd.DataFrame([{\n",
    "                \"suffix\": suffix,\n",
    "                \"model_idx\": model_idx,\n",
    "                \"radius_all\": radius[I_pos].mean(),\n",
    "                \"radius_cor\": radius[I_cor].mean()}]\n",
    "                        )\n",
    "        ]\n",
    "    )"
   ]
  },
  {
   "cell_type": "code",
   "execution_count": null,
   "id": "041d5d5d-5cbc-408e-ad90-b1f6c8ab5cd9",
   "metadata": {},
   "outputs": [],
   "source": [
    "df.head()"
   ]
  },
  {
   "cell_type": "code",
   "execution_count": null,
   "id": "e78a64d7-9808-4bea-9ca6-afd23cb4e191",
   "metadata": {},
   "outputs": [],
   "source": [
    "sns.boxplot(x=\"suffix\", y=\"radius_all\", data=df)"
   ]
  },
  {
   "cell_type": "code",
   "execution_count": null,
   "id": "de3ed86a-1930-4e07-9031-43390ee3866d",
   "metadata": {},
   "outputs": [],
   "source": [
    "sns.boxplot(x=\"suffix\", y=\"radius_cor\", data=df)"
   ]
  }
 ],
 "metadata": {
  "kernelspec": {
   "display_name": "Python 3 (ipykernel)",
   "language": "python",
   "name": "python3"
  },
  "language_info": {
   "codemirror_mode": {
    "name": "ipython",
    "version": 3
   },
   "file_extension": ".py",
   "mimetype": "text/x-python",
   "name": "python",
   "nbconvert_exporter": "python",
   "pygments_lexer": "ipython3",
   "version": "3.9.18"
  }
 },
 "nbformat": 4,
 "nbformat_minor": 5
}
