{
 "cells": [
  {
   "cell_type": "code",
   "execution_count": null,
   "id": "0add1cd8-6860-4b9f-9fbc-3bf543eb54c0",
   "metadata": {
    "editable": true,
    "slideshow": {
     "slide_type": ""
    },
    "tags": []
   },
   "outputs": [],
   "source": [
    "import torch \n",
    "from torch import nn\n",
    "\n",
    "import torchvision\n",
    "import torchvision.transforms as transforms\n",
    "\n",
    "import numpy as np\n",
    "from matplotlib import pyplot as plt\n",
    "\n",
    "import models.rs as rs\n",
    "from models.base_models.base_classifier import ConvBase\n",
    "\n",
    "device = torch.device('cuda:0')\n",
    "\n",
    "from IPython.display import display, HTML\n",
    "display(HTML(\"<style>.container { width:100% !important; }</style>\"))"
   ]
  },
  {
   "cell_type": "markdown",
   "id": "a7d080e2",
   "metadata": {
    "editable": true,
    "jp-MarkdownHeadingCollapsed": true,
    "slideshow": {
     "slide_type": ""
    },
    "tags": []
   },
   "source": [
    "## Wrapper: test randomized smoothing"
   ]
  },
  {
   "cell_type": "markdown",
   "id": "e9370c7f-53bf-425a-8ea1-e305e4458262",
   "metadata": {
    "editable": true,
    "jp-MarkdownHeadingCollapsed": true,
    "slideshow": {
     "slide_type": ""
    },
    "tags": []
   },
   "source": [
    "### Init"
   ]
  },
  {
   "cell_type": "code",
   "execution_count": null,
   "id": "2534a3ae",
   "metadata": {
    "editable": true,
    "slideshow": {
     "slide_type": ""
    },
    "tags": []
   },
   "outputs": [],
   "source": [
    "base_classifier = ConvBase().to(device)\n",
    "number_classes = 10\n",
    "sigma = 1\n",
    "batch_size = 512\n",
    "epochs = 10\n",
    "\n",
    "k = 20\n",
    "r = 0.01\n",
    "m = 5"
   ]
  },
  {
   "cell_type": "code",
   "execution_count": null,
   "id": "018d7ea3",
   "metadata": {},
   "outputs": [],
   "source": [
    "# --------------------"
   ]
  },
  {
   "cell_type": "markdown",
   "id": "16f31abb",
   "metadata": {
    "jp-MarkdownHeadingCollapsed": true
   },
   "source": [
    "### Load and prepare data\n",
    "(see https://pytorch.org/tutorials/beginner/blitz/cifar10_tutorial.html)"
   ]
  },
  {
   "cell_type": "code",
   "execution_count": null,
   "id": "8bd648c1",
   "metadata": {},
   "outputs": [],
   "source": [
    "transform = transforms.Compose(\n",
    "    [transforms.ToTensor(),\n",
    "     transforms.Normalize((0.5, 0.5, 0.5), (0.5, 0.5, 0.5))])"
   ]
  },
  {
   "cell_type": "code",
   "execution_count": null,
   "id": "93a25f9a",
   "metadata": {},
   "outputs": [],
   "source": [
    "train_set = torchvision.datasets.CIFAR10(root='./data', train=True, download=True, transform=transform)\n",
    "train_loader = torch.utils.data.DataLoader(train_set, batch_size=batch_size, shuffle=True, num_workers=2)\n",
    "train_flattened_loader = torch.utils.data.DataLoader(train_set, batch_size=len(train_set), shuffle=True, num_workers=2)\n",
    "\n",
    "test_set = torchvision.datasets.CIFAR10(root='./data', train=False, download=True, transform=transform)\n",
    "test_loader = torch.utils.data.DataLoader(test_set, batch_size=1, shuffle=False, num_workers=2)\n",
    "# choose batch_size 1 for certification"
   ]
  },
  {
   "cell_type": "code",
   "execution_count": null,
   "id": "710af698",
   "metadata": {},
   "outputs": [],
   "source": [
    "for data in train_flattened_loader:\n",
    "    inputs, _ = data\n",
    "    train_flattened = inputs.reshape(inputs.shape[0], -1)"
   ]
  },
  {
   "cell_type": "code",
   "execution_count": null,
   "id": "fb9b1f88",
   "metadata": {},
   "outputs": [],
   "source": [
    "# --------------------"
   ]
  },
  {
   "cell_type": "markdown",
   "id": "9baabbc4",
   "metadata": {
    "jp-MarkdownHeadingCollapsed": true
   },
   "source": [
    "### Train the smoothed classifier\n",
    "(see https://pytorch.org/tutorials/beginner/blitz/cifar10_tutorial.html)"
   ]
  },
  {
   "cell_type": "code",
   "execution_count": null,
   "id": "ce6bda08",
   "metadata": {},
   "outputs": [],
   "source": [
    "# init the smoothed classifier\n",
    "classifier_smoothed = rs.RSClassifier(base_classifier=base_classifier,\n",
    "                                      num_classes=number_classes,\n",
    "                                      sigma=sigma,\n",
    "                                      device=device).to(device)"
   ]
  },
  {
   "cell_type": "code",
   "execution_count": null,
   "id": "83ba945e",
   "metadata": {},
   "outputs": [],
   "source": [
    "# choose a loss function and optimizer\n",
    "loss_func = nn.CrossEntropyLoss()\n",
    "\n",
    "# optimizer = torch.optim.SGD(classifier_smoothed.parameters(), lr=0.001, momentum=0.9)\n",
    "optimizer = torch.optim.Adam(classifier_smoothed.parameters(), lr=0.001)"
   ]
  },
  {
   "cell_type": "code",
   "execution_count": null,
   "id": "e3438630",
   "metadata": {},
   "outputs": [],
   "source": [
    "# set model to training mode\n",
    "classifier_smoothed.train()\n",
    "# base_classifier.train()\n",
    "losses = []\n",
    "accuracies = []\n",
    "for epoch in range(epochs):\n",
    "    print(f'Starting epoch {epoch}')\n",
    "    for i, data in enumerate(train_loader, 0):\n",
    "        inputs, labels = data[0].to(device), data[1].to(device)\n",
    "\n",
    "        # zero the parameter gradients\n",
    "        optimizer.zero_grad()\n",
    "\n",
    "        # forward + compute accuracy\n",
    "        outputs = classifier_smoothed(inputs)\n",
    "        _, predicted = torch.max(outputs, 1)\n",
    "        accuracy = torch.mean((predicted == labels) * 1.0).item()\n",
    "        accuracies.append(accuracy)\n",
    "        \n",
    "        # compute loss + backward\n",
    "        loss = loss_func(outputs, labels)\n",
    "        loss.backward()\n",
    "        losses.append(loss.item())\n",
    "        \n",
    "        # optimization\n",
    "        optimizer.step()\n",
    "\n",
    "print('Finished training')"
   ]
  },
  {
   "cell_type": "code",
   "execution_count": null,
   "id": "9b75cfcf",
   "metadata": {},
   "outputs": [],
   "source": [
    "PATH = './cifar_net.pth'\n",
    "torch.save(classifier_smoothed.state_dict(), PATH)"
   ]
  },
  {
   "cell_type": "code",
   "execution_count": null,
   "id": "2a738029",
   "metadata": {},
   "outputs": [],
   "source": [
    "plt.plot(losses)\n",
    "plt.title(\"Loss development over iterations\") \n",
    "plt.xlabel(\"Iteration\") \n",
    "plt.ylabel(\"Loss\") \n",
    "plt.grid(True)\n",
    "plt.show()"
   ]
  },
  {
   "cell_type": "code",
   "execution_count": null,
   "id": "27b9ae0d",
   "metadata": {},
   "outputs": [],
   "source": [
    "plt.plot(accuracies)\n",
    "plt.title(\"Accuracy development over iterations\") \n",
    "plt.xlabel(\"Iteration\") \n",
    "plt.ylabel(\"Accuracy\") \n",
    "plt.grid(True)\n",
    "plt.show()"
   ]
  },
  {
   "cell_type": "code",
   "execution_count": null,
   "id": "57a80b9b",
   "metadata": {},
   "outputs": [],
   "source": [
    "# --------------------"
   ]
  },
  {
   "cell_type": "markdown",
   "id": "df38d3c9",
   "metadata": {
    "jp-MarkdownHeadingCollapsed": true
   },
   "source": [
    "### Evaluate smoothed classifier\n",
    "(see https://pytorch.org/tutorials/beginner/blitz/cifar10_tutorial.html)"
   ]
  },
  {
   "cell_type": "code",
   "execution_count": null,
   "id": "c7bb05fb",
   "metadata": {},
   "outputs": [],
   "source": [
    "n_sampling = 100\n",
    "n_bound = 1000\n",
    "alpha = 0.1\n",
    "batch_size = batch_size"
   ]
  },
  {
   "cell_type": "code",
   "execution_count": null,
   "id": "cec038e5",
   "metadata": {},
   "outputs": [],
   "source": [
    "# load model\n",
    "model = rs.RSClassifier(\n",
    "    base_classifier=base_classifier,\n",
    "    num_classes=number_classes,\n",
    "    sigma=sigma,\n",
    "    device=device).to(device)\n",
    "model.load_state_dict(torch.load(PATH))"
   ]
  },
  {
   "cell_type": "code",
   "execution_count": null,
   "id": "987596e7-c55d-45eb-bbdd-3fb3d625ce6c",
   "metadata": {},
   "outputs": [],
   "source": [
    "from importlib import reload\n",
    "reload(rs)"
   ]
  },
  {
   "cell_type": "code",
   "execution_count": null,
   "id": "e4b83104",
   "metadata": {},
   "outputs": [],
   "source": [
    "correct_robust_radii = []\n",
    "false_robust_radii = []\n",
    "n_abstain = 0\n",
    "\n",
    "for (image, label) in test_loader:\n",
    "    image, label = image.to(device), label.to(device)\n",
    "    prediction, robust_radius = model.certify(\n",
    "        image, n_sampling, n_bound, model.sigma, alpha)\n",
    "    \n",
    "    if prediction > -1:\n",
    "        if prediction == label:\n",
    "            correct_robust_radii.append(robust_radius)\n",
    "        else:\n",
    "            false_robust_radii.append(robust_radius)\n",
    "    else:\n",
    "        n_abstain += 1\n",
    "        \n",
    "n_correct = len(correct_robust_radii)\n",
    "n_false = len(false_robust_radii)"
   ]
  },
  {
   "cell_type": "code",
   "execution_count": null,
   "id": "564343b5",
   "metadata": {},
   "outputs": [],
   "source": [
    "# average robust radius\n",
    "if n_correct > 0:\n",
    "    print(np.mean(correct_robust_radii))"
   ]
  },
  {
   "cell_type": "markdown",
   "id": "4dae70b0-522a-40f0-904e-8dd93c919c74",
   "metadata": {
    "editable": true,
    "slideshow": {
     "slide_type": ""
    },
    "tags": []
   },
   "source": [
    "# 2D example"
   ]
  },
  {
   "cell_type": "markdown",
   "id": "3f17deb1-c247-4e70-98a7-2d5011a37a31",
   "metadata": {
    "editable": true,
    "slideshow": {
     "slide_type": ""
    },
    "tags": []
   },
   "source": [
    "### Init"
   ]
  },
  {
   "cell_type": "code",
   "execution_count": null,
   "id": "2abfba56-65ba-496f-8ae6-6b32828ea86f",
   "metadata": {
    "editable": true,
    "slideshow": {
     "slide_type": ""
    },
    "tags": []
   },
   "outputs": [],
   "source": [
    "import logging\n",
    "\n",
    "import knn\n",
    "\n",
    "from helper_functions import get_toy_dataset_2d, plot_network_boundary_2d, train"
   ]
  },
  {
   "cell_type": "code",
   "execution_count": null,
   "id": "67459385-0b2e-4937-b586-dd2e318fd6c0",
   "metadata": {
    "editable": true,
    "slideshow": {
     "slide_type": ""
    },
    "tags": []
   },
   "outputs": [],
   "source": [
    "logging.getLogger().setLevel(logging.DEBUG)\n",
    "log = logging.getLogger()"
   ]
  },
  {
   "cell_type": "markdown",
   "id": "1656b160-85cd-46c7-ad8d-d6bd04bfddb7",
   "metadata": {
    "editable": true,
    "slideshow": {
     "slide_type": ""
    },
    "tags": []
   },
   "source": [
    "### Run"
   ]
  },
  {
   "cell_type": "code",
   "execution_count": null,
   "id": "ec32c328-4865-47c9-b327-5cc03721439a",
   "metadata": {
    "editable": true,
    "slideshow": {
     "slide_type": ""
    },
    "tags": []
   },
   "outputs": [],
   "source": [
    "network = torch.nn.Sequential(\n",
    "    #zoo.Flatten(),\n",
    "    torch.nn.Linear(2, 100),\n",
    "    torch.nn.ReLU(),\n",
    "    torch.nn.Linear(100, 1000),\n",
    "    torch.nn.ReLU(),\n",
    "    torch.nn.Linear(1000, 1000),\n",
    "    torch.nn.ReLU(),\n",
    "    torch.nn.Linear(1000, 100),\n",
    "    torch.nn.ReLU(),\n",
    "    torch.nn.Linear(100, 2)\n",
    ").to(device)\n",
    "X, y = get_toy_dataset_2d(\"random\", N=100, r=0.01)"
   ]
  },
  {
   "cell_type": "code",
   "execution_count": null,
   "id": "d9048449-4ea8-4226-b88c-e55d59f36eab",
   "metadata": {
    "editable": true,
    "slideshow": {
     "slide_type": ""
    },
    "tags": []
   },
   "outputs": [],
   "source": [
    "train(network, X.to(device), y.to(device), lr=1e-3, epochs=1000)"
   ]
  },
  {
   "cell_type": "code",
   "execution_count": null,
   "id": "92e07e5d-7d3a-40f0-a8ba-92acac409e2a",
   "metadata": {
    "editable": true,
    "slideshow": {
     "slide_type": ""
    },
    "tags": []
   },
   "outputs": [],
   "source": [
    "plot_network_boundary_2d(network, [0, 0], [1, 1], 100, data=(X, y))"
   ]
  },
  {
   "cell_type": "code",
   "execution_count": null,
   "id": "b873f647-9aa3-4aa9-9c66-d2942123aa46",
   "metadata": {
    "editable": true,
    "slideshow": {
     "slide_type": ""
    },
    "tags": []
   },
   "outputs": [],
   "source": [
    "network_rs = rs.RSClassifier(network, 2, sigma=0.05, device=device)"
   ]
  },
  {
   "cell_type": "code",
   "execution_count": null,
   "id": "55943ebd-b4ef-4722-a12d-ff760806f955",
   "metadata": {
    "editable": true,
    "slideshow": {
     "slide_type": ""
    },
    "tags": []
   },
   "outputs": [],
   "source": [
    "def network_forward_pass_rs(x):\n",
    "    return torch.stack([\n",
    "        network_rs.predict(x_.unsqueeze(0), n=10000, sigma=network_rs.sigma, alpha=0.01, return_all_counts=True) for x_ in x\n",
    "    ])"
   ]
  },
  {
   "cell_type": "code",
   "execution_count": null,
   "id": "dd8f906b-671d-4071-b724-869bc2ed6fd5",
   "metadata": {
    "editable": true,
    "slideshow": {
     "slide_type": ""
    },
    "tags": []
   },
   "outputs": [],
   "source": [
    "plot_network_boundary_2d(network_forward_pass_rs, [0, 0], [1, 1], 100, data=(X, y)) # ToDo: speedup by batched prediction?"
   ]
  },
  {
   "cell_type": "code",
   "execution_count": null,
   "id": "5cfb0efe-2c02-486d-af2d-76ee2e44b966",
   "metadata": {
    "editable": true,
    "slideshow": {
     "slide_type": ""
    },
    "tags": []
   },
   "outputs": [],
   "source": [
    "k = 5\n",
    "knn_comp = knn.KNNDistComp(torch.utils.data.TensorDataset(X, y), device=device)\n",
    "def distances_fcn(x):\n",
    "    return knn_comp.compute_knn_and_dists(x)[1][0]#.cpu().numpy()\n",
    "def knns_fcn(x):\n",
    "    return knn_comp.compute_knns(x, k)#.cpu().numpy()\n",
    "def mean_distances_fcn(x):\n",
    "    return knn_comp.compute_mean_dist(x, k)#.cpu().numpy()\n",
    "    "
   ]
  },
  {
   "cell_type": "code",
   "execution_count": null,
   "id": "d12dc5c0-9f5b-41e1-aa7f-3487c16c3607",
   "metadata": {
    "editable": true,
    "slideshow": {
     "slide_type": ""
    },
    "tags": []
   },
   "outputs": [],
   "source": [
    "network_idrs = rs.IDRSClassifier(network, 2, sigma=0.05, distances=None, rate=5.0, m=1.0, device=device,\n",
    "                                mean_distances_fcn=mean_distances_fcn)"
   ]
  },
  {
   "cell_type": "code",
   "execution_count": null,
   "id": "fb6b67dc-9eb4-486b-99e8-554e0e6d22a3",
   "metadata": {
    "editable": true,
    "slideshow": {
     "slide_type": ""
    },
    "tags": []
   },
   "outputs": [],
   "source": [
    "def network_forward_pass_idrs(x):\n",
    "    return torch.stack([\n",
    "        network_idrs.predict(x_.unsqueeze(0), n=10000, sigma=network_idrs.sigma_fcn(x_.unsqueeze(0)), alpha=0.01, return_all_counts=True) for x_ in x\n",
    "    ])"
   ]
  },
  {
   "cell_type": "code",
   "execution_count": null,
   "id": "d75ac0aa-0cd8-4a6e-b2a5-2a529d5d0152",
   "metadata": {
    "editable": true,
    "slideshow": {
     "slide_type": ""
    },
    "tags": []
   },
   "outputs": [],
   "source": [
    "plot_network_boundary_2d(network_forward_pass_idrs, [0, 0], [1, 1], 100, data=(X, y),\n",
    "                        x_base=X, r=[network_idrs.sigma_fcn(x.unsqueeze(0)) for x in X]) # ToDo: speedup by batched prediction?"
   ]
  },
  {
   "cell_type": "code",
   "execution_count": null,
   "id": "41945042-19c3-446d-8360-dd0e6c4cefcd",
   "metadata": {},
   "outputs": [],
   "source": [
    "network_bidrs = rs.BiasedIDRSClassifier(network, 2, sigma=0.05, distances=None, rate=5.0, m=1.0, device=device,\n",
    "                                  knns_fcn=knns_fcn, distances_fcn=distances_fcn, mean_distances_fcn=mean_distances_fcn,\n",
    "                                  variance_func=\"sigma_knn\", bias_func=\"mu_knn_based\")"
   ]
  },
  {
   "cell_type": "code",
   "execution_count": null,
   "id": "cdfceb3f-eb2f-4c5d-87b5-913707edd218",
   "metadata": {},
   "outputs": [],
   "source": [
    "def network_forward_pass_bidrs(x):\n",
    "    return torch.stack([\n",
    "        network_bidrs.predict(x_.unsqueeze(0), n=10000, sigma=network_bidrs.sigma_fcn(x_.unsqueeze(0)),\n",
    "                             alpha=0.01, return_all_counts=True,\n",
    "                             bias=network_bidrs.bias_fcn(x_.unsqueeze(0))) for x_ in x\n",
    "    ])"
   ]
  },
  {
   "cell_type": "code",
   "execution_count": null,
   "id": "1185fe66-f0c8-4b7c-b077-c0937fa58365",
   "metadata": {},
   "outputs": [],
   "source": [
    "plot_network_boundary_2d(network_forward_pass_bidrs, [0, 0], [1, 1], 100, data=(X, y),\n",
    "                        x_base=X, r=[network_bidrs.sigma_fcn(x.unsqueeze(0)) for x in X]) # ToDo: speedup by batched prediction?"
   ]
  }
 ],
 "metadata": {
  "@webio": {
   "lastCommId": null,
   "lastKernelId": null
  },
  "kernelspec": {
   "display_name": "Python 3 (ipykernel)",
   "language": "python",
   "name": "python3"
  },
  "language_info": {
   "codemirror_mode": {
    "name": "ipython",
    "version": 3
   },
   "file_extension": ".py",
   "mimetype": "text/x-python",
   "name": "python",
   "nbconvert_exporter": "python",
   "pygments_lexer": "ipython3",
   "version": "3.9.18"
  }
 },
 "nbformat": 4,
 "nbformat_minor": 5
}
