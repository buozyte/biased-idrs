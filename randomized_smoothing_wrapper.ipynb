{
 "cells": [
  {
   "cell_type": "markdown",
   "id": "a7d080e2",
   "metadata": {},
   "source": [
    "## Wrapper: test randomized smoothing"
   ]
  },
  {
   "cell_type": "code",
   "execution_count": null,
   "id": "d25a4711",
   "metadata": {},
   "outputs": [],
   "source": [
    "%load_ext autoreload\n",
    "%autoreload 2\n",
    "\n",
    "import torch \n",
    "from torch import nn\n",
    "\n",
    "import torchvision\n",
    "import torchvision.transforms as transforms\n",
    "\n",
    "import numpy as np\n",
    "from matplotlib import pyplot as plt\n",
    "\n",
    "from models.rs import RSClassifier\n",
    "from models.base_models.base_classifier import ConvBase\n",
    "\n",
    "# correct device handling?\n",
    "device = torch.device('cuda:0')"
   ]
  },
  {
   "cell_type": "code",
   "execution_count": null,
   "id": "2534a3ae",
   "metadata": {},
   "outputs": [],
   "source": [
    "base_classifier = ConvBase().to(device)\n",
    "number_classes = 10\n",
    "sigma = 1\n",
    "batch_size = 128\n",
    "epochs = 1\n",
    "\n",
    "k = 20\n",
    "r = 0.01\n",
    "m = 5"
   ]
  },
  {
   "cell_type": "code",
   "execution_count": null,
   "id": "018d7ea3",
   "metadata": {},
   "outputs": [],
   "source": [
    "# --------------------"
   ]
  },
  {
   "cell_type": "markdown",
   "id": "16f31abb",
   "metadata": {},
   "source": [
    "### Load and prepare data\n",
    "(see https://pytorch.org/tutorials/beginner/blitz/cifar10_tutorial.html)"
   ]
  },
  {
   "cell_type": "code",
   "execution_count": null,
   "id": "8bd648c1",
   "metadata": {},
   "outputs": [],
   "source": [
    "transform = transforms.Compose(\n",
    "    [transforms.ToTensor(),\n",
    "     transforms.Normalize((0.5, 0.5, 0.5), (0.5, 0.5, 0.5))])"
   ]
  },
  {
   "cell_type": "code",
   "execution_count": null,
   "id": "93a25f9a",
   "metadata": {},
   "outputs": [],
   "source": [
    "train_set = torchvision.datasets.CIFAR10(root='./data', train=True, download=True, transform=transform)\n",
    "train_loader = torch.utils.data.DataLoader(train_set, batch_size=batch_size, shuffle=True, num_workers=2)\n",
    "train_flattened_loader = torch.utils.data.DataLoader(train_set, batch_size=len(train_set), shuffle=True, num_workers=2)\n",
    "\n",
    "test_set = torchvision.datasets.CIFAR10(root='./data', train=False, download=True, transform=transform)\n",
    "test_loader = torch.utils.data.DataLoader(test_set, batch_size=1, shuffle=False, num_workers=2)\n",
    "# choose batch_size 1 for certification"
   ]
  },
  {
   "cell_type": "code",
   "execution_count": null,
   "id": "710af698",
   "metadata": {},
   "outputs": [],
   "source": [
    "for data in train_flattened_loader:\n",
    "    inputs, _ = data\n",
    "    train_flattened = inputs.reshape(inputs.shape[0], -1)"
   ]
  },
  {
   "cell_type": "code",
   "execution_count": null,
   "id": "fb9b1f88",
   "metadata": {},
   "outputs": [],
   "source": [
    "# --------------------"
   ]
  },
  {
   "cell_type": "markdown",
   "id": "9baabbc4",
   "metadata": {},
   "source": [
    "### Train the smoothed classifier\n",
    "(see https://pytorch.org/tutorials/beginner/blitz/cifar10_tutorial.html)"
   ]
  },
  {
   "cell_type": "code",
   "execution_count": null,
   "id": "ce6bda08",
   "metadata": {},
   "outputs": [],
   "source": [
    "# init the smoothed classifier\n",
    "classifier_smoothed = RSClassifier(base_classifier=base_classifier,\n",
    "                                   num_classes=number_classes,\n",
    "                                   sigma=sigma,\n",
    "                                   device=device).to(device)"
   ]
  },
  {
   "cell_type": "code",
   "execution_count": null,
   "id": "83ba945e",
   "metadata": {},
   "outputs": [],
   "source": [
    "# choose a loss function and optimizer\n",
    "loss_func = nn.CrossEntropyLoss()\n",
    "\n",
    "# optimizer = torch.optim.SGD(classifier_smoothed.parameters(), lr=0.001, momentum=0.9)\n",
    "optimizer = torch.optim.Adam(classifier_smoothed.parameters(), lr=0.001)"
   ]
  },
  {
   "cell_type": "code",
   "execution_count": null,
   "id": "e3438630",
   "metadata": {},
   "outputs": [],
   "source": [
    "# set model to training mode\n",
    "classifier_smoothed.train()\n",
    "# base_classifier.train()\n",
    "losses = []\n",
    "accuracies = []\n",
    "for epoch in range(epochs):\n",
    "    print(f'Starting epoch {epoch}')\n",
    "    for i, data in enumerate(train_loader, 0):\n",
    "        inputs, labels = data[0].to(device), data[1].to(device)\n",
    "\n",
    "        # zero the parameter gradients\n",
    "        optimizer.zero_grad()\n",
    "\n",
    "        # forward + compute accuracy\n",
    "        outputs = classifier_smoothed(inputs)\n",
    "        _, predicted = torch.max(outputs, 1)\n",
    "        accuracy = torch.mean((predicted == labels) * 1.0).item()\n",
    "        accuracies.append(accuracy)\n",
    "        \n",
    "        # compute loss + backward\n",
    "        loss = loss_func(outputs, labels)\n",
    "        loss.backward()\n",
    "        losses.append(loss.item())\n",
    "        \n",
    "        # optimization\n",
    "        optimizer.step()\n",
    "\n",
    "print('Finished training')"
   ]
  },
  {
   "cell_type": "code",
   "execution_count": null,
   "id": "9b75cfcf",
   "metadata": {},
   "outputs": [],
   "source": [
    "PATH = './cifar_net.pth'\n",
    "torch.save(classifier_smoothed.state_dict(), PATH)"
   ]
  },
  {
   "cell_type": "code",
   "execution_count": null,
   "id": "2a738029",
   "metadata": {},
   "outputs": [],
   "source": [
    "plt.plot(losses)\n",
    "plt.title(\"Loss development over iterations\") \n",
    "plt.xlabel(\"Iteration\") \n",
    "plt.ylabel(\"Loss\") \n",
    "plt.grid(True)\n",
    "plt.show()"
   ]
  },
  {
   "cell_type": "code",
   "execution_count": null,
   "id": "27b9ae0d",
   "metadata": {},
   "outputs": [],
   "source": [
    "plt.plot(accuracies)\n",
    "plt.title(\"Accuracy development over iterations\") \n",
    "plt.xlabel(\"Iteration\") \n",
    "plt.ylabel(\"Accuracy\") \n",
    "plt.grid(True)\n",
    "plt.show()"
   ]
  },
  {
   "cell_type": "code",
   "execution_count": null,
   "id": "57a80b9b",
   "metadata": {},
   "outputs": [],
   "source": [
    "# --------------------"
   ]
  },
  {
   "cell_type": "markdown",
   "id": "df38d3c9",
   "metadata": {},
   "source": [
    "### Evaluate smoothed classifier\n",
    "(see https://pytorch.org/tutorials/beginner/blitz/cifar10_tutorial.html)"
   ]
  },
  {
   "cell_type": "code",
   "execution_count": null,
   "id": "c7bb05fb",
   "metadata": {},
   "outputs": [],
   "source": [
    "number_samples = 100\n",
    "number_samples0 = 1000\n",
    "alpha = 0.1\n",
    "batch_size = batch_size"
   ]
  },
  {
   "cell_type": "code",
   "execution_count": null,
   "id": "cec038e5",
   "metadata": {},
   "outputs": [],
   "source": [
    "# load model\n",
    "model = RSClassifier(\n",
    "    base_classifier=base_classifier,\n",
    "    num_classes=number_classes,\n",
    "    sigma=sigma,\n",
    "    device=device).to(device)\n",
    "model.load_state_dict(torch.load(PATH))"
   ]
  },
  {
   "cell_type": "code",
   "execution_count": null,
   "id": "e4b83104",
   "metadata": {},
   "outputs": [],
   "source": [
    "correct_robust_radii = []\n",
    "false_robust_radii = []\n",
    "abstain = 0\n",
    "\n",
    "for (image, label) in test_loader:\n",
    "    image, label = image.to(device), label.to(device)\n",
    "    prediction, robust_radius = model.certify(\n",
    "        image, number_samples, number_samples0, alpha, batch_size)\n",
    "    \n",
    "    if prediction > -1:\n",
    "        if prediction == label:\n",
    "            correct_robust_radii.append(robust_radius)\n",
    "        else:\n",
    "            false_robust_radii.append(robust_radius)\n",
    "    else:\n",
    "        abstain += 1\n",
    "        \n",
    "correct = len(correct_robust_radii)\n",
    "false = len(false_robust_radii)"
   ]
  },
  {
   "cell_type": "code",
   "execution_count": null,
   "id": "564343b5",
   "metadata": {},
   "outputs": [],
   "source": [
    "# average robust radius\n",
    "if len(correct_robust_radii) > 0:\n",
    "    torch.mean(correct_robust_radii)"
   ]
  },
  {
   "cell_type": "code",
   "execution_count": null,
   "id": "265a9e63",
   "metadata": {},
   "outputs": [],
   "source": []
  }
 ],
 "metadata": {
  "@webio": {
   "lastCommId": null,
   "lastKernelId": null
  },
  "kernelspec": {
   "display_name": "Python 3 (ipykernel)",
   "language": "python",
   "name": "python3"
  },
  "language_info": {
   "codemirror_mode": {
    "name": "ipython",
    "version": 3
   },
   "file_extension": ".py",
   "mimetype": "text/x-python",
   "name": "python",
   "nbconvert_exporter": "python",
   "pygments_lexer": "ipython3",
   "version": "3.9.18"
  }
 },
 "nbformat": 4,
 "nbformat_minor": 5
}
